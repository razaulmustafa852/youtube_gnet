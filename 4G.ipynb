{
 "cells": [
  {
   "cell_type": "code",
   "execution_count": 281,
   "metadata": {},
   "outputs": [],
   "source": [
    "import pandas as pd\n",
    "import numpy as np\n",
    "import seaborn as sns\n",
    "import csv\n"
   ]
  },
  {
   "cell_type": "code",
   "execution_count": 282,
   "metadata": {},
   "outputs": [],
   "source": [
    "import os\n",
    "rootdir = 'Logs/'\n",
    "folder = []\n",
    "for file in os.listdir(rootdir):\n",
    "    d = os.path.join(rootdir, file)\n",
    "    if os.path.isdir(d):\n",
    "        fname = d.split('/')\n",
    "        folder.append(fname[1]+'/'+fname[1]+'.txt')"
   ]
  },
  {
   "cell_type": "code",
   "execution_count": 269,
   "metadata": {},
   "outputs": [],
   "source": [
    "#print(folder)"
   ]
  },
  {
   "cell_type": "code",
   "execution_count": 283,
   "metadata": {},
   "outputs": [],
   "source": [
    "for f in folder:\n",
    "    with open(rootdir+f, newline = '') as text:                                                                                          \n",
    "            singleFile = csv.reader(text, delimiter='\\t')\n",
    "            array = []\n",
    "            for text in singleFile:\n",
    "                cInfo = text[0:25]\n",
    "                state = text[26:27]\n",
    "                events= text[46:47]\n",
    "                finalColumns = cInfo+state+events\n",
    "                #df = pd.DataFrame(dColumns)\n",
    "                #df.to_csv('abc.csv')\n",
    "                array.append(finalColumns)\n",
    "                #print(finalColumns)\n",
    "            #print(array)\n",
    "            df = pd.DataFrame(array[1:],columns=array[0])\n",
    "            #print(df)\n",
    "            file_name = f.split('/')\n",
    "            #print(file_name)\n",
    "            os.mkdir('LogsUpdated/'+file_name[0])\n",
    "            df.to_csv('LogsUpdated/'+file_name[0]+'/'+file_name[0]+str('.csv'),index=False)\n",
    "            "
   ]
  },
  {
   "cell_type": "code",
   "execution_count": null,
   "metadata": {},
   "outputs": [],
   "source": []
  }
 ],
 "metadata": {
  "kernelspec": {
   "display_name": "Python 3",
   "language": "python",
   "name": "python3"
  },
  "language_info": {
   "codemirror_mode": {
    "name": "ipython",
    "version": 3
   },
   "file_extension": ".py",
   "mimetype": "text/x-python",
   "name": "python",
   "nbconvert_exporter": "python",
   "pygments_lexer": "ipython3",
   "version": "3.8.5"
  }
 },
 "nbformat": 4,
 "nbformat_minor": 4
}
